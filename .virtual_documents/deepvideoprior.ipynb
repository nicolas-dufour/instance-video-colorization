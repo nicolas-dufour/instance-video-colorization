import torch
import pytorch_lightning as pl
from models.main import DeepVideoPriorColor
from data import PairImageDataset
import ffmpeg as ffmpeg
import matplotlib.pyplot as plt
from torchvision import transforms
from IPython.display import Video


ffmpeg.input('data/dataset_gray_images/*.jpg', pattern_type='glob', framerate=25).output('output/videos/car_b&w.mp4').run()


Video('output/videos/car_b&w.mp4')


from torch.utils.data import Dataset, DataLoader
import os
import cv2
from torchvision import transforms


class PairImageDataset(Dataset):
    def __init__(self, input_dir, output_dir, transform=False):
        self.input_dir = input_dir
        self.output_dir = output_dir

        self.transform = transform
        self.inputs_paths = os.listdir(input_dir)
        if self.inputs_paths != os.listdir(output_dir):
            raise "Input and Output not matching"

    def __len__(self):
        return len(self.inputs_paths)

    def __getitem__(self, idx):
        if torch.is_tensor(idx):
            idx = idx.tolist()

        image_name = self.inputs_paths[idx]

        input_image = cv2.imread(self.input_dir+f"/{image_name}")
        input_image = cv2.cvtColor(input_image, cv2.COLOR_BGR2RGB)

        output_image = cv2.imread(self.output_dir+f"/{image_name}")
        output_image = cv2.cvtColor(output_image, cv2.COLOR_BGR2RGB)
        h, w, _ = input_image.shape
        h, w = (w//32)*32, (h//32)*32
        input_image = input_image[:w,:h,:]
        output_image = output_image[:h,:w,:]
        if self.transform:
            input_image = self.transform(input_image)
            output_image = self.transform(output_image)
        return image_name, (input_image, output_image)


dataset = PairImageDataset('data/dataset_gray_images', 'data/dataset_predict_color', transform = transforms.ToTensor())
dataloader = DataLoader(dataset, batch_size=1)


trainer = pl.Trainer(max_epochs=50)
model = DeepVideoPriorColor()


trainer.fit(model,dataloader)


img= cv2.imread('data/dataset_gray_images/480p_car-roundabout_00065.jpg')
img = cv2.cvtColor(img, cv2.COLOR_BGR2RGB)
plt.imshow(img)


img.shape


import numpy as np



